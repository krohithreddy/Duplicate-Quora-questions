{
 "cells": [
  {
   "cell_type": "markdown",
   "metadata": {},
   "source": [
    "# Quora question pairs: training"
   ]
  },
  {
   "cell_type": "markdown",
   "metadata": {},
   "source": [
    "## Import packages"
   ]
  },
  {
   "cell_type": "code",
   "execution_count": 1,
   "metadata": {},
   "outputs": [
    {
     "name": "stderr",
     "output_type": "stream",
     "text": [
      "Using TensorFlow backend.\n"
     ]
    }
   ],
   "source": [
    "%matplotlib inline\n",
    "from __future__ import print_function\n",
    "import numpy as np\n",
    "import pandas as pd\n",
    "import datetime, time, json\n",
    "from keras.models import Model\n",
    "from keras.layers import Input, TimeDistributed, Dense, Lambda, concatenate, Dropout, BatchNormalization\n",
    "from keras.layers.embeddings import Embedding\n",
    "from keras.regularizers import l2\n",
    "from keras.callbacks import Callback, ModelCheckpoint\n",
    "from keras import backend as K\n",
    "from sklearn.model_selection import train_test_split\n",
    "import sys\n",
    "import os\n",
    "import csv, datetime, time, json\n",
    "from zipfile import ZipFile\n",
    "from os.path import expanduser, exists\n",
    "from keras.utils.data_utils import get_file\n",
    "from keras.preprocessing.text import Tokenizer\n",
    "from keras.preprocessing.sequence import pad_sequences\n",
    "from keras import backend as K\n",
    "from sklearn.model_selection import train_test_split\n",
    "from keras.layers import LSTM"
   ]
  },
  {
   "cell_type": "markdown",
   "metadata": {},
   "source": [
    "## Initialize global variables"
   ]
  },
  {
   "cell_type": "code",
   "execution_count": 2,
   "metadata": {
    "collapsed": true
   },
   "outputs": [],
   "source": [
    "# Initialize global variables\n",
    "KERAS_DATASETS_DIR = os.path.expanduser('~/.keras/datasets/')\n",
    "QUESTION_PAIRS_FILE_URL = 'http://qim.ec.quoracdn.net/quora_duplicate_questions.tsv'\n",
    "QUESTION_PAIRS_FILE = 'quora_duplicate_questions.tsv'\n",
    "GLOVE_ZIP_FILE_URL = 'http://nlp.stanford.edu/data/glove.840B.300d.zip'\n",
    "GLOVE_ZIP_FILE = 'glove.840B.300d.zip'\n",
    "GLOVE_FILE = 'glove.840B.300d.txt'\n",
    "Q1_TRAINING_DATA_FILE = 'q1_train.npy'\n",
    "Q2_TRAINING_DATA_FILE = 'q2_train.npy'\n",
    "LABEL_TRAINING_DATA_FILE = 'label_train.npy'\n",
    "WORD_EMBEDDING_MATRIX_FILE = 'word_embedding_matrix.npy'\n",
    "NB_WORDS_DATA_FILE = 'nb_words.json'\n",
    "MAX_NB_WORDS = 200000\n",
    "MAX_SEQUENCE_LENGTH = 25\n",
    "EMBEDDING_DIM = 300\n",
    "MODEL_WEIGHTS_FILE = 'question_pairs_weights.h5'\n",
    "VALIDATION_SPLIT = 0.1\n",
    "TEST_SPLIT = 0.2\n",
    "RNG_SEED = 13371447\n",
    "NB_EPOCHS = 25\n",
    "DROPOUT = 0.1\n",
    "BATCH_SIZE = 32\n",
    "OPTIMIZER = 'adam'"
   ]
  },
  {
   "cell_type": "markdown",
   "metadata": {},
   "source": [
    "## Load the dataset, embedding matrix and word count"
   ]
  },
  {
   "cell_type": "code",
   "execution_count": 3,
   "metadata": {
    "collapsed": true
   },
   "outputs": [],
   "source": [
    "# If the dataset, embedding matrix and word count exist in the local directory\n",
    "if os.path.exists(Q1_TRAINING_DATA_FILE) and os.path.exists(Q2_TRAINING_DATA_FILE) and os.path.exists(LABEL_TRAINING_DATA_FILE) and os.path.exists(NB_WORDS_DATA_FILE) and os.path.exists(WORD_EMBEDDING_MATRIX_FILE):\n",
    "    # Then load them\n",
    "    q1_data = np.load(open(Q1_TRAINING_DATA_FILE, 'rb'))\n",
    "    q2_data = np.load(open(Q2_TRAINING_DATA_FILE, 'rb'))\n",
    "    labels = np.load(open(LABEL_TRAINING_DATA_FILE, 'rb'))\n",
    "    word_embedding_matrix = np.load(open(WORD_EMBEDDING_MATRIX_FILE, 'rb'))\n",
    "    with open(NB_WORDS_DATA_FILE, 'r') as f:\n",
    "        nb_words = json.load(f)['nb_words']\n",
    "else:\n",
    "    # Else download and extract questions pairs data\n",
    "    if not os.path.exists(KERAS_DATASETS_DIR + QUESTION_PAIRS_FILE):\n",
    "        get_file(QUESTION_PAIRS_FILE, QUESTION_PAIRS_FILE_URL)\n",
    "\n",
    "    print(\"Processing\", QUESTION_PAIRS_FILE)\n",
    "\n",
    "    question1 = []\n",
    "    question2 = []\n",
    "    is_duplicate = []\n",
    "    with open(KERAS_DATASETS_DIR + QUESTION_PAIRS_FILE, encoding='utf-8') as csvfile:\n",
    "        reader = csv.DictReader(csvfile, delimiter='\\t')\n",
    "        for row in reader:\n",
    "            question1.append(row['question1'])\n",
    "            question2.append(row['question2'])\n",
    "            is_duplicate.append(row['is_duplicate'])\n",
    "\n",
    "    print('Question pairs: %d' % len(question1))\n",
    "\n",
    "    # Build tokenized word index\n",
    "    questions = question1 + question2\n",
    "    tokenizer = Tokenizer(num_words=MAX_NB_WORDS)\n",
    "    tokenizer.fit_on_texts(questions)\n",
    "    question1_word_sequences = tokenizer.texts_to_sequences(question1)\n",
    "    question2_word_sequences = tokenizer.texts_to_sequences(question2)\n",
    "    word_index = tokenizer.word_index\n",
    "\n",
    "    print(\"Words in index: %d\" % len(word_index))\n",
    "\n",
    "    # Download and process GloVe embeddings\n",
    "    if not os.path.exists(KERAS_DATASETS_DIR + GLOVE_ZIP_FILE):\n",
    "        zipfile = ZipFile(get_file(GLOVE_ZIP_FILE, GLOVE_ZIP_FILE_URL))\n",
    "        zipfile.extract(GLOVE_FILE, path=KERAS_DATASETS_DIR)\n",
    "\n",
    "    print(\"Processing\", GLOVE_FILE)\n",
    "\n",
    "    embeddings_index = {}\n",
    "    with open(KERAS_DATASETS_DIR + GLOVE_FILE, encoding='utf-8') as f:\n",
    "        for line in f:\n",
    "            values = line.split(' ')\n",
    "            word = values[0]\n",
    "            embedding = np.asarray(values[1:], dtype='float32')\n",
    "            embeddings_index[word] = embedding\n",
    "\n",
    "    print('Word embeddings: %d' % len(embeddings_index))\n",
    "\n",
    "    # Prepare word embedding matrix\n",
    "    nb_words = min(MAX_NB_WORDS, len(word_index))\n",
    "    word_embedding_matrix = np.zeros((nb_words + 1, EMBEDDING_DIM))\n",
    "    for word, i in word_index.items():\n",
    "        if i > MAX_NB_WORDS:\n",
    "            continue\n",
    "        embedding_vector = embeddings_index.get(word)\n",
    "        if embedding_vector is not None:\n",
    "            word_embedding_matrix[i] = embedding_vector\n",
    "        \n",
    "    print('Null word embeddings: %d' % np.sum(np.sum(word_embedding_matrix, axis=1) == 0))\n",
    "\n",
    "    # Prepare training data tensors\n",
    "    q1_data = pad_sequences(question1_word_sequences, maxlen=MAX_SEQUENCE_LENGTH)\n",
    "    q2_data = pad_sequences(question2_word_sequences, maxlen=MAX_SEQUENCE_LENGTH)\n",
    "    labels = np.array(is_duplicate, dtype=int)\n",
    "    print('Shape of question1 data tensor:', q1_data.shape)\n",
    "    print('Shape of question2 data tensor:', q2_data.shape)\n",
    "    print('Shape of label tensor:', labels.shape)\n",
    "\n",
    "    # Persist training and configuration data to files\n",
    "    np.save(open(Q1_TRAINING_DATA_FILE, 'wb'), q1_data)\n",
    "    np.save(open(Q2_TRAINING_DATA_FILE, 'wb'), q2_data)\n",
    "    np.save(open(LABEL_TRAINING_DATA_FILE, 'wb'), labels)\n",
    "    np.save(open(WORD_EMBEDDING_MATRIX_FILE, 'wb'), word_embedding_matrix)\n",
    "    with open(NB_WORDS_DATA_FILE, 'w') as f:\n",
    "        json.dump({'nb_words': nb_words}, f)"
   ]
  },
  {
   "cell_type": "markdown",
   "metadata": {},
   "source": [
    "## Partition the dataset into train and test sets"
   ]
  },
  {
   "cell_type": "code",
   "execution_count": 4,
   "metadata": {
    "collapsed": true
   },
   "outputs": [],
   "source": [
    "X = np.stack((q1_data, q2_data), axis=1)\n",
    "y = labels\n",
    "\n",
    "X = X[:100000]\n",
    "y = y[:100000]\n",
    "\n",
    "\n",
    "\n",
    "X_train, X_test, y_train, y_test = train_test_split(X, y, test_size=TEST_SPLIT, random_state=RNG_SEED)\n",
    "Q1_train = X_train[:,0]\n",
    "Q2_train = X_train[:,1]\n",
    "Q1_test = X_test[:,0]\n",
    "Q2_test = X_test[:,1]"
   ]
  },
  {
   "cell_type": "markdown",
   "metadata": {},
   "source": [
    "## Define the model"
   ]
  },
  {
   "cell_type": "code",
   "execution_count": 5,
   "metadata": {
    "collapsed": true
   },
   "outputs": [],
   "source": [
    "question1 = Input(shape=(MAX_SEQUENCE_LENGTH,))\n",
    "question2 = Input(shape=(MAX_SEQUENCE_LENGTH,))\n",
    "\n",
    "rate_drop_lstm = 0.15 + np.random.rand() * 0.25\n",
    "\n",
    "lstm_layer = LSTM(EMBEDDING_DIM, dropout=rate_drop_lstm, recurrent_dropout=rate_drop_lstm)\n",
    "embedding_layer = Embedding(nb_words + 1, \n",
    "                 EMBEDDING_DIM, \n",
    "                 weights=[word_embedding_matrix], \n",
    "                 input_length=MAX_SEQUENCE_LENGTH, \n",
    "                 trainable=False)\n",
    "\n",
    "sequence_1_input = Input(shape=(MAX_SEQUENCE_LENGTH,), dtype='int32')\n",
    "embedded_sequences_1 = embedding_layer(sequence_1_input)\n",
    "x1 = lstm_layer(embedded_sequences_1)\n",
    "\n",
    "sequence_2_input = Input(shape=(MAX_SEQUENCE_LENGTH,), dtype='int32')\n",
    "embedded_sequences_2 = embedding_layer(sequence_2_input)\n",
    "y1 = lstm_layer(embedded_sequences_2)\n",
    "\n",
    "merged = concatenate([x1,y1])\n",
    "merged = Dense(200, activation='relu')(merged)\n",
    "merged = Dropout(DROPOUT)(merged)\n",
    "merged = BatchNormalization()(merged)\n",
    "\n",
    "is_duplicate = Dense(1, activation='sigmoid')(merged)\n",
    "\n",
    "model = Model(inputs=[sequence_1_input, sequence_2_input], outputs=is_duplicate)\n",
    "model.compile(loss='binary_crossentropy', optimizer='adam', metrics=['accuracy'])"
   ]
  },
  {
   "cell_type": "code",
   "execution_count": 6,
   "metadata": {},
   "outputs": [
    {
     "name": "stdout",
     "output_type": "stream",
     "text": [
      "____________________________________________________________________________________________________\n",
      "Layer (type)                     Output Shape          Param #     Connected to                     \n",
      "====================================================================================================\n",
      "input_3 (InputLayer)             (None, 25)            0                                            \n",
      "____________________________________________________________________________________________________\n",
      "input_4 (InputLayer)             (None, 25)            0                                            \n",
      "____________________________________________________________________________________________________\n",
      "embedding_1 (Embedding)          (None, 25, 300)       28679100    input_3[0][0]                    \n",
      "                                                                   input_4[0][0]                    \n",
      "____________________________________________________________________________________________________\n",
      "lstm_1 (LSTM)                    (None, 300)           721200      embedding_1[0][0]                \n",
      "                                                                   embedding_1[1][0]                \n",
      "____________________________________________________________________________________________________\n",
      "concatenate_1 (Concatenate)      (None, 600)           0           lstm_1[0][0]                     \n",
      "                                                                   lstm_1[1][0]                     \n",
      "____________________________________________________________________________________________________\n",
      "dense_1 (Dense)                  (None, 200)           120200      concatenate_1[0][0]              \n",
      "____________________________________________________________________________________________________\n",
      "dropout_1 (Dropout)              (None, 200)           0           dense_1[0][0]                    \n",
      "____________________________________________________________________________________________________\n",
      "batch_normalization_1 (BatchNorm (None, 200)           800         dropout_1[0][0]                  \n",
      "____________________________________________________________________________________________________\n",
      "dense_2 (Dense)                  (None, 1)             201         batch_normalization_1[0][0]      \n",
      "====================================================================================================\n",
      "Total params: 29,521,501\n",
      "Trainable params: 842,001\n",
      "Non-trainable params: 28,679,500\n",
      "____________________________________________________________________________________________________\n"
     ]
    }
   ],
   "source": [
    "model.summary()"
   ]
  },
  {
   "cell_type": "markdown",
   "metadata": {},
   "source": [
    "## Train the model, checkpointing weights with best validation accuracy"
   ]
  },
  {
   "cell_type": "code",
   "execution_count": 22,
   "metadata": {},
   "outputs": [
    {
     "name": "stdout",
     "output_type": "stream",
     "text": [
      "Starting training at 2017-11-23 18:48:54.530046\n",
      "Train on 72000 samples, validate on 8000 samples\n",
      "Epoch 1/25\n",
      "1252s - loss: 0.5896 - acc: 0.6873 - val_loss: 0.5395 - val_acc: 0.7248\n",
      "Epoch 2/25\n",
      "1097s - loss: 0.5315 - acc: 0.7313 - val_loss: 0.5166 - val_acc: 0.7342\n",
      "Epoch 3/25\n",
      "1117s - loss: 0.4966 - acc: 0.7543 - val_loss: 0.5160 - val_acc: 0.7331\n",
      "Epoch 4/25\n",
      "1102s - loss: 0.4650 - acc: 0.7766 - val_loss: 0.4763 - val_acc: 0.7704\n",
      "Epoch 5/25\n",
      "1084s - loss: 0.4345 - acc: 0.7970 - val_loss: 0.4758 - val_acc: 0.7650\n",
      "Epoch 6/25\n",
      "1101s - loss: 0.4007 - acc: 0.8146 - val_loss: 0.4674 - val_acc: 0.7754\n",
      "Epoch 7/25\n",
      "1035s - loss: 0.3712 - acc: 0.8324 - val_loss: 0.4759 - val_acc: 0.7806\n",
      "Epoch 8/25\n",
      "954s - loss: 0.3394 - acc: 0.8492 - val_loss: 0.4826 - val_acc: 0.7817\n",
      "Epoch 9/25\n",
      "1131s - loss: 0.3116 - acc: 0.8623 - val_loss: 0.4948 - val_acc: 0.7776\n",
      "Epoch 10/25\n",
      "1135s - loss: 0.2881 - acc: 0.8757 - val_loss: 0.5204 - val_acc: 0.7729\n",
      "Epoch 11/25\n",
      "1098s - loss: 0.2661 - acc: 0.8861 - val_loss: 0.5466 - val_acc: 0.7805\n",
      "Epoch 12/25\n",
      "1126s - loss: 0.2471 - acc: 0.8943 - val_loss: 0.5692 - val_acc: 0.7738\n",
      "Epoch 13/25\n",
      "1033s - loss: 0.2324 - acc: 0.9014 - val_loss: 0.5640 - val_acc: 0.7730\n",
      "Epoch 14/25\n",
      "1030s - loss: 0.2195 - acc: 0.9086 - val_loss: 0.5978 - val_acc: 0.7815\n",
      "Epoch 15/25\n",
      "864s - loss: 0.2098 - acc: 0.9124 - val_loss: 0.5985 - val_acc: 0.7756\n",
      "Epoch 16/25\n",
      "904s - loss: 0.2020 - acc: 0.9177 - val_loss: 0.6135 - val_acc: 0.7748\n",
      "Epoch 17/25\n",
      "885s - loss: 0.1909 - acc: 0.9231 - val_loss: 0.6135 - val_acc: 0.7781\n",
      "Epoch 18/25\n",
      "883s - loss: 0.1850 - acc: 0.9254 - val_loss: 0.6633 - val_acc: 0.7725\n",
      "Epoch 19/25\n",
      "871s - loss: 0.1788 - acc: 0.9264 - val_loss: 0.6212 - val_acc: 0.7788\n",
      "Epoch 20/25\n",
      "968s - loss: 0.1733 - acc: 0.9295 - val_loss: 0.6544 - val_acc: 0.7764\n",
      "Epoch 21/25\n",
      "1085s - loss: 0.1657 - acc: 0.9326 - val_loss: 0.6930 - val_acc: 0.7716\n",
      "Epoch 22/25\n",
      "1070s - loss: 0.1610 - acc: 0.9362 - val_loss: 0.6726 - val_acc: 0.7726\n",
      "Epoch 23/25\n",
      "1004s - loss: 0.1604 - acc: 0.9359 - val_loss: 0.6937 - val_acc: 0.7736\n",
      "Epoch 24/25\n",
      "791s - loss: 0.1525 - acc: 0.9394 - val_loss: 0.7013 - val_acc: 0.7789\n",
      "Epoch 25/25\n",
      "787s - loss: 0.1493 - acc: 0.9406 - val_loss: 0.7191 - val_acc: 0.7772\n",
      "Training ended at 2017-11-24 01:52:38.103939\n",
      "Minutes elapsed: 423.725509\n"
     ]
    }
   ],
   "source": [
    "print(\"Starting training at\", datetime.datetime.now())\n",
    "t0 = time.time()\n",
    "callbacks = [ModelCheckpoint(MODEL_WEIGHTS_FILE, monitor='val_acc', save_best_only=True)]\n",
    "history = model.fit([Q1_train, Q2_train],\n",
    "                    y_train,\n",
    "                    epochs=NB_EPOCHS,\n",
    "                    validation_split=VALIDATION_SPLIT,\n",
    "                    verbose=2,\n",
    "                    batch_size=BATCH_SIZE,\n",
    "                    callbacks=callbacks)\n",
    "t1 = time.time()\n",
    "print(\"Training ended at\", datetime.datetime.now())\n",
    "print(\"Minutes elapsed: %f\" % ((t1 - t0) / 60.))"
   ]
  },
  {
   "cell_type": "markdown",
   "metadata": {},
   "source": [
    "## Plot training and validation accuracy"
   ]
  },
  {
   "cell_type": "code",
   "execution_count": 31,
   "metadata": {},
   "outputs": [
    {
     "data": {
      "image/png": "[encoded data removed]",
      "text/plain": [
       "<matplotlib.figure.Figure at 0x7f6a7554d400>"
      ]
     },
     "metadata": {},
     "output_type": "display_data"
    }
   ],
   "source": [
    "import matplotlib.pyplot as plt\n",
    "%matplotlib inline\n",
    "\n",
    "val_acc_list = history.history['val_acc']\n",
    "train_acc_list = history.history['acc']\n",
    "epoch_list = [ i + 1 for i in history.epoch ]\n",
    "\n",
    "plt.plot(epoch_list, val_acc_list, label='validation')\n",
    "plt.plot(epoch_list, train_acc_list, label='training')\n",
    "#plt.plot(x, [2,5.4,3], 'r-', x, [2.2,3.4,8], 'b-', x, [1.2,0.4,5], 'y-', x ,)\n",
    "plt.ylabel(\"accuracy\")\n",
    "plt.xlabel(\"epoch\")\n",
    "plt.legend(loc='best')\n",
    "plt.show()"
   ]
  },
  {
   "cell_type": "markdown",
   "metadata": {},
   "source": [
    "## Print best validation accuracy and epoch"
   ]
  },
  {
   "cell_type": "code",
   "execution_count": 24,
   "metadata": {},
   "outputs": [
    {
     "name": "stdout",
     "output_type": "stream",
     "text": [
      "Maximum accuracy at epoch 8 = 0.7817\n"
     ]
    }
   ],
   "source": [
    "max_val_acc, idx = max((val, idx) for (idx, val) in enumerate(history.history['val_acc']))\n",
    "print('Maximum accuracy at epoch', '{:d}'.format(idx+1), '=', '{:.4f}'.format(max_val_acc))"
   ]
  },
  {
   "cell_type": "markdown",
   "metadata": {},
   "source": [
    "## Evaluate the model with best validation accuracy on the test partition"
   ]
  },
  {
   "cell_type": "code",
   "execution_count": 25,
   "metadata": {},
   "outputs": [
    {
     "name": "stdout",
     "output_type": "stream",
     "text": [
      "loss = 0.4816, accuracy = 0.7814\n"
     ]
    }
   ],
   "source": [
    "model.load_weights(MODEL_WEIGHTS_FILE)\n",
    "loss, accuracy = model.evaluate([Q1_test, Q2_test], y_test, verbose=0)\n",
    "print('loss = {0:.4f}, accuracy = {1:.4f}'.format(loss, accuracy))"
   ]
  },
  {
   "cell_type": "code",
   "execution_count": null,
   "metadata": {
    "collapsed": true
   },
   "outputs": [],
   "source": []
  }
 ],
 "metadata": {
  "hide_input": false,
  "kernelspec": {
   "display_name": "Python 3",
   "language": "python",
   "name": "python3"
  },
  "language_info": {
   "codemirror_mode": {
    "name": "ipython",
    "version": 3
   },
   "file_extension": ".py",
   "mimetype": "text/x-python",
   "name": "python",
   "nbconvert_exporter": "python",
   "pygments_lexer": "ipython3",
   "version": "3.6.2"
  }
 },
 "nbformat": 4,
 "nbformat_minor": 2
}
